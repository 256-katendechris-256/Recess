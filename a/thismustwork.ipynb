{
 "cells": [
  {
   "cell_type": "code",
   "execution_count": 34,
   "metadata": {},
   "outputs": [
    {
     "name": "stdout",
     "output_type": "stream",
     "text": [
      "0\n"
     ]
    }
   ],
   "source": [
    "import requests\n",
    "from bs4 import BeautifulSoup\n",
    "\n",
    "try:\n",
    "    url = requests.get('https://xeno-canto.org/explore?query=since:31&dir=0&order=xc')\n",
    "    soup = BeautifulSoup(url.text, 'html.parser')\n",
    "\n",
    "    birds = soup.select('table.results tr.new-species')\n",
    "\n",
    "    print(len(birds))\n",
    "except Exception as e:\n",
    "    print(e)\n"
   ]
  },
  {
   "cell_type": "code",
   "execution_count": 45,
   "metadata": {},
   "outputs": [
    {
     "name": "stdout",
     "output_type": "stream",
     "text": [
      "None\n"
     ]
    }
   ],
   "source": [
    "import time\n",
    "import requests\n",
    "from bs4 import BeautifulSoup\n",
    "from selenium import webdriver\n",
    "\n",
    "def scrape_dynamic_content(url):\n",
    "    # Set up the Selenium WebDriver (replace 'chrome' with 'firefox' if using Firefox)\n",
    "    driver = webdriver.Chrome()  # Make sure chromedriver is in your PATH or provide its location here\n",
    "\n",
    "    try:\n",
    "        # Load the URL using Selenium\n",
    "        driver.get(url)\n",
    "\n",
    "        # Wait for some time to allow the content to load dynamically\n",
    "        time.sleep(5)\n",
    "\n",
    "        # Get the page source after it has been dynamically loaded\n",
    "        page_source = driver.page_source\n",
    "\n",
    "        # Use BeautifulSoup to parse the dynamically loaded content\n",
    "        soup = BeautifulSoup(page_source, 'html.parser')\n",
    "\n",
    "        # Now you can use BeautifulSoup as usual to find elements\n",
    "        birds = soup.select('table.results tr.new-species')\n",
    "\n",
    "        for bird in birds:\n",
    "            name=bird.find('td')\n",
    "            \n",
    "            print(name)\n",
    "    finally:\n",
    "        # Close the browser window after scraping is done\n",
    "        driver.quit()\n",
    "\n",
    "\n",
    "if __name__ == \"__main__\":\n",
    "    url_to_scrape = 'https://xeno-canto.org/explore?query=since:31&dir=0&order=xc'\n",
    "    scrape_dynamic_content(url_to_scrape)\n"
   ]
  },
  {
   "cell_type": "code",
   "execution_count": null,
   "metadata": {},
   "outputs": [],
   "source": []
  }
 ],
 "metadata": {
  "kernelspec": {
   "display_name": "base",
   "language": "python",
   "name": "python3"
  },
  "language_info": {
   "codemirror_mode": {
    "name": "ipython",
    "version": 3
   },
   "file_extension": ".py",
   "mimetype": "text/x-python",
   "name": "python",
   "nbconvert_exporter": "python",
   "pygments_lexer": "ipython3",
   "version": "3.10.9"
  },
  "orig_nbformat": 4
 },
 "nbformat": 4,
 "nbformat_minor": 2
}
